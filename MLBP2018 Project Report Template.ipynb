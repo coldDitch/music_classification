{
 "cells": [
  {
   "cell_type": "markdown",
   "metadata": {},
   "source": [
    "**Machine Learning Basic Principles 2018 - Data Analysis Project Report**"
   ]
  },
  {
   "cell_type": "markdown",
   "metadata": {},
   "source": [
    "# *Music genre classification*"
   ]
  },
  {
   "cell_type": "markdown",
   "metadata": {},
   "source": [
    "## Abstract"
   ]
  },
  {
   "cell_type": "markdown",
   "metadata": {},
   "source": [
    "In this project our intent is to formulate an implementation of music classification to genres using machine learning techniques. A standard procedure before analyzing audio signals is decomposing the audio. Before the classification, the classifiable song needs to be preprocessed by extracting some distinct characteristics. The songs are decomposed to three different categories - rhythm patterns, chroma and mel frequency cepstral coefficients (MFCCs), which make up the feature space of the model. After the initial feature mapping, some additional features are computed that include variance, maximum, minimum and mean values of the three categories and added to the feature vector. Using these features the classification is implemented with C-support vector classification (SVC), which is first trained with provided labeled data and later used to predict labels of unlabeled data, that is,  predicting which of the 10 music genres considered in the project the songs belong to. The final fitted SVC classifier yielded prediction accuracies of approximately 66%."
   ]
  },
  {
   "cell_type": "markdown",
   "metadata": {},
   "source": [
    "## 1. Introduction"
   ]
  },
  {
   "cell_type": "markdown",
   "metadata": {},
   "source": [
    "Dividing music to genres is an usual way of categorizing music since it comes in all different shapes and sizes. Musical genres shares some charasteristic features which include for instance rhythm patterns, timbre and  spectral qualities. \n",
    "\n",
    "Nowadays with growing music streaming platforms with new music flooding in around the clock, a convenient way of organizing and managing music is by categorizing it by its genre. Nevertheless, as no one can keep up with the amount of new music rushing to the market and that is where a genre classifier software would come in handy. Categorizing music by its genre helps for example the service provider to offer more specific and personalized music to the users and makes it easier for the users to find the kind of music they like. However, classifying a song solely on its tonal and rhytmic qualities is a rather hard task to do since there is no definite boundaries between different genres of music. \n",
    "\n",
    "The charasteristics we use in this project for genre classification are rhythm patterns, chroma and MFCCs. Chroma values depict the melody and harmony of the song and consist of 12 classes, one for each semitone, and 4 statistics. The rhythm pattern values consist of how much frequency modulation on specific range of the spectrum is happening and is represented by 24 different bands and 7 statistics. MFCCs are a way of describing the timble of a audio sample. To obtain the MFCCs, the audio is fourier transformed and mapped to mel scale which is then again transformed using discrete cosine transform. The resulting amplitudes are the mel frequency cepstral coefficients. The first 12 MFCCs with 4 statistics are inlcuded in the feature vector. Combining all the features we end up with a 264 dimensional feature vector [1].\n",
    "\n",
    "The goal is to map each feature vector to the correct corresponding label. We implement a model which takes a feature vector as input and returns a vector with its value correspong to probability of the input song belonging to  each genre. The label space consist of most common 10 genres which are numbered from one to ten:\n",
    "\n",
    "1. Pop_Rock\n",
    "\n",
    "2. Electronic\n",
    "\n",
    "3. Rap\n",
    "\n",
    "4. Jazz\n",
    "\n",
    "5. Latin\n",
    "\n",
    "6. RnB\n",
    "\n",
    "7. International\n",
    "\n",
    "8. Country\n",
    "\n",
    "9. Reggae\n",
    "\n",
    "10. Blues\n",
    "\n",
    "In section 2 we overview the given dataset and preprocess the feature vectors to a more suitable format. The classifier and other methods used in this project are described and evaluated in section 3 and in section 4 we present the results.\n",
    "\n",
    "\n",
    "\n",
    "\n",
    "*Background, problem statement, motivation, many references, description of\n",
    "contents. Introduces the reader to the topic and the broad context within which your\n",
    "research/project fits*\n",
    "*- What do you hope to learn from the project?*\n",
    "*- What question is being addressed?*\n",
    "*- Why is this task important? (motivation)*\n",
    "*Keep it short (half to 1 page).*\n",
    "\n"
   ]
  },
  {
   "cell_type": "markdown",
   "metadata": {},
   "source": [
    "## 2. Data analysis"
   ]
  },
  {
   "cell_type": "markdown",
   "metadata": {},
   "source": [
    "*Briefly describe data (class distribution, dimensionality) and how will it affect\n",
    "classification. Visualize the data. Don’t focus too much on the meaning of the features,\n",
    "unless you want to.*\n",
    "\n",
    "*- Include histograms showing class distribution.*\n",
    "\n"
   ]
  },
  {
   "cell_type": "code",
   "execution_count": null,
   "metadata": {
    "deletable": false,
    "nbgrader": {
     "cell_type": "code",
     "checksum": "014a593ce82d342a60d749c7a2c46b7c",
     "grade": true,
     "grade_id": "cell-c3ef844c17cf4a1e",
     "locked": false,
     "points": 1,
     "schema_version": 2,
     "solution": true
    }
   },
   "outputs": [],
   "source": [
    "# Import libraries\n",
    "import pandas as pd\n",
    "import numpy as np\n",
    "#...\n",
    "# YOUR CODE HERE\n",
    "raise NotImplementedError()"
   ]
  },
  {
   "cell_type": "code",
   "execution_count": null,
   "metadata": {},
   "outputs": [],
   "source": [
    "# Load the data and cleanup"
   ]
  },
  {
   "cell_type": "code",
   "execution_count": null,
   "metadata": {},
   "outputs": [],
   "source": [
    "#Analysis of the input data\n",
    "# ..."
   ]
  },
  {
   "cell_type": "markdown",
   "metadata": {},
   "source": [
    "## 3. Methods and experiments"
   ]
  },
  {
   "cell_type": "markdown",
   "metadata": {},
   "source": [
    "*- Explain your whole approach (you can include a block diagram showing the steps in your process).* \n",
    "\n",
    "*- What methods/algorithms, why were the methods chosen. *\n",
    "\n",
    "*- What evaluation methodology (cross CV, etc.).*\n",
    "\n"
   ]
  },
  {
   "cell_type": "code",
   "execution_count": null,
   "metadata": {},
   "outputs": [],
   "source": [
    "# Trials with ML algorithms"
   ]
  },
  {
   "cell_type": "markdown",
   "metadata": {},
   "source": [
    "## 4. Results"
   ]
  },
  {
   "cell_type": "markdown",
   "metadata": {},
   "source": [
    "*Summarize the results of the experiments without discussing their implications.*\n",
    "\n",
    "*- Include both performance measures (accuracy and LogLoss).*\n",
    "\n",
    "*- How does it perform on kaggle compared to the train data.*\n",
    "\n",
    "*- Include a confusion matrix.*\n",
    "\n"
   ]
  },
  {
   "cell_type": "code",
   "execution_count": null,
   "metadata": {},
   "outputs": [],
   "source": [
    "#Confusion matrix ..."
   ]
  },
  {
   "cell_type": "markdown",
   "metadata": {},
   "source": [
    "## 5. Discussion/Conclusions"
   ]
  },
  {
   "cell_type": "markdown",
   "metadata": {},
   "source": [
    "*Interpret and explain your results *\n",
    "\n",
    "*- Discuss the relevance of the performance measures (accuracy and LogLoss) for\n",
    "imbalanced multiclass datasets. *\n",
    "\n",
    "*- How the results relate to the literature. *\n",
    "\n",
    "*- Suggestions for future research/improvement. *\n",
    "\n",
    "*- Did the study answer your questions? *\n",
    "\n"
   ]
  },
  {
   "cell_type": "markdown",
   "metadata": {},
   "source": [
    "## 6. References"
   ]
  },
  {
   "cell_type": "markdown",
   "metadata": {},
   "source": [
    "[1] MLBP 2018 Data Analysis Project - Problem Description"
   ]
  },
  {
   "cell_type": "markdown",
   "metadata": {},
   "source": [
    "## Appendix\n",
    "*Any additional material needed to complete the report can be included here. For example, if you want to keep  additional source code, additional images or plots, mathematical derivations, etc. The content should be relevant to the report and should help explain or visualize something mentioned earlier. **You can remove the whole Appendix section if there is no need for it.** *"
   ]
  },
  {
   "cell_type": "code",
   "execution_count": null,
   "metadata": {},
   "outputs": [],
   "source": []
  }
 ],
 "metadata": {
  "kernelspec": {
   "display_name": "Python 3",
   "language": "python",
   "name": "python3"
  },
  "language_info": {
   "codemirror_mode": {
    "name": "ipython",
    "version": 3
   },
   "file_extension": ".py",
   "mimetype": "text/x-python",
   "name": "python",
   "nbconvert_exporter": "python",
   "pygments_lexer": "ipython3",
   "version": "3.6.6"
  }
 },
 "nbformat": 4,
 "nbformat_minor": 2
}
