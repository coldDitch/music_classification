{
 "cells": [
  {
   "cell_type": "markdown",
   "metadata": {},
   "source": [
    "**Machine Learning Basic Principles 2018 - Data Analysis Project Report**"
   ]
  },
  {
   "cell_type": "markdown",
   "metadata": {},
   "source": [
    "# *Music genre classification*"
   ]
  },
  {
   "cell_type": "markdown",
   "metadata": {},
   "source": [
    "## Abstract"
   ]
  },
  {
   "cell_type": "markdown",
   "metadata": {},
   "source": [
    "In this project our intent is to formulate an implementation of music classification to genres using machine learning techniques. A standard procedure before analyzing audio signals is decomposing the audio. Before the classification, the classifiable song needs to be preprocessed by extracting some distinct characteristics. The songs are decomposed to three different categories - rhythm patterns, chroma and mel frequency cepstral coefficients (MFCCs), which make up the feature space of the model. After the initial feature mapping, some additional features are computed that include variance, maximum, minimum and mean values of the three categories and added to the feature vector. Using these features the classification is implemented with C-support vector classification (SVC), which is first trained with provided labeled data and later used to predict labels of unlabeled data, that is,  predicting which of the 10 music genres considered in the project the songs belong to. The final fitted SVC classifier yielded prediction accuracies of approximately 66%."
   ]
  },
  {
   "cell_type": "markdown",
   "metadata": {},
   "source": [
    "## 1. Introduction"
   ]
  },
  {
   "cell_type": "markdown",
   "metadata": {},
   "source": [
    "Dividing music to genres is an usual way of categorizing music since it comes in all different shapes and sizes. Musical genres shares some charasteristic features which include for instance rhythm patterns, timbre and  spectral qualities. \n",
    "\n",
    "Nowadays with growing music streaming platforms with new music flooding in around the clock, a convenient way of organizing and managing music is by categorizing it by its genre. Nevertheless, as no one can keep up with the amount of new music rushing to the market and that is where a genre classifier software would come in handy. Categorizing music by its genre helps for example the service provider to offer more specific and personalized music to the users and makes it easier for the users to find the kind of music they like. However, classifying a song solely on its tonal and rhytmic qualities is a rather hard task to do since there is no definite boundaries between different genres of music. \n",
    "\n",
    "The charasteristics we use in this project for genre classification are rhythm patterns, chroma and MFCCs. Chroma values depict the melody and harmony of the song and consist of 12 classes, one for each semitone, and 4 statistics. The rhythm pattern values consist of how much frequency modulation on specific range of the spectrum is happening and is represented by 24 different bands and 7 statistics. MFCCs are a way of describing the timble of a audio sample. To obtain the MFCCs, the audio is fourier transformed and mapped to mel scale which is then again transformed using discrete cosine transform. The resulting amplitudes are the mel frequency cepstral coefficients. The first 12 MFCCs with 4 statistics are inlcuded in the feature vector. Combining all the features we end up with a 264 dimensional feature vector [1].\n",
    "\n",
    "The goal is to map each feature vector to the correct corresponding label. We implement a model which takes a feature vector as input and returns a vector with its value correspong to probability of the input song belonging to  each genre. The label space consist of most common 10 genres which are numbered from one to ten:\n",
    "\n",
    "1. Pop_Rock\n",
    "\n",
    "2. Electronic\n",
    "\n",
    "3. Rap\n",
    "\n",
    "4. Jazz\n",
    "\n",
    "5. Latin\n",
    "\n",
    "6. RnB\n",
    "\n",
    "7. International\n",
    "\n",
    "8. Country\n",
    "\n",
    "9. Reggae\n",
    "\n",
    "10. Blues\n",
    "\n",
    "In section 2 we overview the given dataset and preprocess the feature vectors to a more suitable format. The classifier and other methods used in this project are described and evaluated in section 3 and in section 4 we present the results.\n",
    "\n",
    "\n",
    "\n",
    "\n",
    "*Background, problem statement, motivation, many references, description of\n",
    "contents. Introduces the reader to the topic and the broad context within which your\n",
    "research/project fits*\n",
    "*- What do you hope to learn from the project?*\n",
    "*- What question is being addressed?*\n",
    "*- Why is this task important? (motivation)*\n",
    "*Keep it short (half to 1 page).*\n",
    "\n"
   ]
  },
  {
   "cell_type": "markdown",
   "metadata": {},
   "source": [
    "## 2. Data analysis"
   ]
  },
  {
   "cell_type": "markdown",
   "metadata": {},
   "source": [
    "Firstly we import all the nececcary libraries. The libraries include Scikit-learn (abbreviated sklearn) which is a machine learning library that contains all the required preprocessing and classification algorithms,  NumPy, a essential library for mathematical functions and matrix calculations, Pandas for data manipulation and finally, matplotlib for plotting.\n",
    "\n",
    "After importing the data we can check its dimensions - the feature matrices $ F \\in \\mathbb{R}^{n \\times 264}$ consist of $n$ 264 dimensional feature vectors as stated before, where $n$ denotes the number of entries and is 4363 for the train data and 6544 for the test data. The train label data is accordingly a 4363 values long vector with its values beging integers ranging from 1 to 10.  As we plot the train labels to a bar chart, a major imbalance is noticable. Class 1 entries make up about half of the train data whereas classes 9 and 10 have under 100 occurrences.\n",
    "\n",
    "\n",
    "*Briefly describe data (class distribution, dimensionality) and how will it affect\n",
    "classification. Visualize the data. Don’t focus too much on the meaning of the features,\n",
    "unless you want to.*\n",
    "\n"
   ]
  },
  {
   "cell_type": "code",
   "execution_count": 38,
   "metadata": {
    "deletable": false,
    "nbgrader": {
     "cell_type": "code",
     "checksum": "014a593ce82d342a60d749c7a2c46b7c",
     "grade": true,
     "grade_id": "cell-c3ef844c17cf4a1e",
     "locked": false,
     "points": 1,
     "schema_version": 2,
     "solution": true
    }
   },
   "outputs": [],
   "source": [
    "import sklearn\n",
    "from sklearn import svm\n",
    "from sklearn.model_selection import train_test_split\n",
    "from sklearn.model_selection import GridSearchCV\n",
    "from sklearn.metrics import accuracy_score\n",
    "from sklearn.preprocessing import QuantileTransformer\n",
    "from sklearn.model_selection import cross_val_predict\n",
    "from sklearn.metrics import log_loss\n",
    "from sklearn.decomposition import PCA\n",
    "\n",
    "import numpy as np\n",
    "import pandas as pd\n",
    "from matplotlib import pyplot as plt"
   ]
  },
  {
   "cell_type": "code",
   "execution_count": 54,
   "metadata": {},
   "outputs": [
    {
     "name": "stdout",
     "output_type": "stream",
     "text": [
      "(4363, 264)\n",
      "(6544, 264)\n",
      "(4363, 1)\n"
     ]
    }
   ],
   "source": [
    "df_data=pd.read_csv('train_data.csv',header=None)\n",
    "df_label=pd.read_csv('train_labels.csv',header=None)\n",
    "df_test=pd.read_csv('test_data.csv',header=None)\n",
    "labels=df_label.values\n",
    "features=df_data.values\n",
    "test_features=df_test.values\n",
    "\n",
    "print(features.shape)\n",
    "print(test_features.shape)\n",
    "print(labels.shape)"
   ]
  },
  {
   "cell_type": "code",
   "execution_count": 35,
   "metadata": {},
   "outputs": [
    {
     "data": {
      "image/png": "[encoded data removed]",
      "text/plain": [
       "<Figure size 432x288 with 1 Axes>"
      ]
     },
     "metadata": {
      "needs_background": "light"
     },
     "output_type": "display_data"
    },
    {
     "name": "stdout",
     "output_type": "stream",
     "text": [
      "[2178  618  326  253  214  260  141  195   92   86]\n"
     ]
    }
   ],
   "source": [
    "values, counts = np.unique(labels, return_counts=True)\n",
    "plt.bar(values, counts)\n",
    "plt.show()\n",
    "print(counts)"
   ]
  },
  {
   "cell_type": "markdown",
   "metadata": {},
   "source": [
    "## 3. Methods and experiments"
   ]
  },
  {
   "cell_type": "markdown",
   "metadata": {},
   "source": [
    "### 3.1 Preprocessing"
   ]
  },
  {
   "cell_type": "markdown",
   "metadata": {},
   "source": [
    "With the range of feature vectors' values varying widely, a normalization of the feature vectors is a good way of improving the performance of ML algorithms. An common way of implementing the normalization is a min-max scaler or by using a sigmoid function. However, with our data with the feature values ranging from minimum of about -1700 and maximum of $10^6$, these functions would \"squishify\" the smaller end values too aggressively such that the many of the data points would become next to useless. That's why we ended up using sklearn's quantile transformer to normalize our data. The scaler transforms the features to a uniform distribution between zero and one spreading the most frequent values with also reducing the impact of outliers, which is also a good way of noise cancellation.\n",
    "\n",
    "After the normalization, a set of additional features are added to each feature vector. The added features include the mean, minimum and maximum values as well as variance for each statistic of all the three different charcteristics (rhythm, chroma and MFCCs) in the feature space.\n",
    "\n",
    "\n",
    "(*- Explain your whole approach (you can include a block diagram showing the steps in your process).* \n",
    "*- What methods/algorithms, why were the methods chosen. *\n",
    "*- What evaluation methodology (cross CV, etc.).*)\n",
    "\n"
   ]
  },
  {
   "cell_type": "code",
   "execution_count": 40,
   "metadata": {},
   "outputs": [],
   "source": [
    "def scale_features(x):\n",
    "    quantile_transformer = QuantileTransformer(random_state=0, n_quantiles=100, output_distribution=\"uniform\")\n",
    "    features= quantile_transformer.fit_transform(x)\n",
    "    return features\n",
    "\n",
    "def added_features(x):\n",
    "    xi=[]\n",
    "    for i in range(0,len(x)):\n",
    "        feature_collector=[]\n",
    "        #append all rythm statistics\n",
    "        for j in range (0,168,24):\n",
    "            rythm=np.median(x[i,j:j+24])\n",
    "            mean_rythm=np.mean(x[i,j:j+24])\n",
    "            var_rythm=np.var(x[i,j:j+24])\n",
    "            min_rythm=np.min(x[i,j:j+24])\n",
    "            max_rythm=np.max(x[i,j:j+24])\n",
    "            feature_collector.append(rythm)\n",
    "            feature_collector.append(var_rythm)\n",
    "            feature_collector.append(mean_rythm)\n",
    "            feature_collector.append(min_rythm)\n",
    "            feature_collector.append(max_rythm)\n",
    "            \n",
    "        #append all chroma statistics\n",
    "        for j in range(168,216,12):\n",
    "            chroma=np.median(x[i,j:j+12])\n",
    "            mean_chroma=np.mean(x[i,j:j+12])\n",
    "            var_chroma=np.var(x[i,j:j+12])\n",
    "            min_chroma=np.min(x[i,j:j+12])\n",
    "            max_chroma=np.max(x[i,j:j+12])\n",
    "            feature_collector.append(chroma)\n",
    "            feature_collector.append(mean_chroma)\n",
    "            feature_collector.append(var_chroma)\n",
    "            feature_collector.append(min_chroma)\n",
    "            feature_collector.append(max_chroma)\n",
    "            \n",
    "        #append mfcc\n",
    "        feature_collector.append(np.median(x[i,216:246]))\n",
    "        feature_collector.append(np.min(x[i,216:246]))\n",
    "        feature_collector.append(np.max(x[i,216:246]))\n",
    "        feature_collector.append(np.var(x[i,216:246]))\n",
    "        \n",
    "        xi.append(np.concatenate((feature_collector,x[i]),axis=None))\n",
    "    return np.asarray(xi)"
   ]
  },
  {
   "cell_type": "markdown",
   "metadata": {},
   "source": [
    "After normalizing and adding the features, the values are normalized between zero and one, and the dimesion of the feature matrix space $F$ has grown to $\\mathbb{R}^{n \\times 323}$."
   ]
  },
  {
   "cell_type": "code",
   "execution_count": 51,
   "metadata": {},
   "outputs": [
    {
     "name": "stdout",
     "output_type": "stream",
     "text": [
      "(4363, 323)\n"
     ]
    }
   ],
   "source": [
    "features=scale_features(features)\n",
    "features=added_features(features)\n",
    "features,labels=sklearn.utils.shuffle(features,labels)\n",
    "print(features.shape)"
   ]
  },
  {
   "cell_type": "markdown",
   "metadata": {},
   "source": [
    "### 3.2 Classifier"
   ]
  },
  {
   "cell_type": "code",
   "execution_count": 45,
   "metadata": {},
   "outputs": [],
   "source": [
    "clf=svm.SVC(kernel='rbf',C=12,gamma=0.0072, cache_size=5000, decision_function_shape=\"ovo\")\n",
    "y_p=cross_val_predict(clf,features, labels.ravel(), cv=5)"
   ]
  },
  {
   "cell_type": "markdown",
   "metadata": {},
   "source": [
    "## 4. Results"
   ]
  },
  {
   "cell_type": "markdown",
   "metadata": {},
   "source": [
    "Accuracy for the cross validation\n",
    "\n",
    "\n",
    "(*Summarize the results of the experiments without discussing their implications.*\n",
    "*- Include both performance measures (accuracy and LogLoss).*\n",
    "*- How does it perform on kaggle compared to the train data.*\n",
    "*- Include a confusion matrix.*)\n",
    "\n"
   ]
  },
  {
   "cell_type": "code",
   "execution_count": 46,
   "metadata": {},
   "outputs": [
    {
     "name": "stdout",
     "output_type": "stream",
     "text": [
      "0.6706394682557874\n"
     ]
    }
   ],
   "source": [
    "accuracy=accuracy_score(labels,y_p)\n",
    "print(accuracy)"
   ]
  },
  {
   "cell_type": "markdown",
   "metadata": {},
   "source": [
    "Log-loss"
   ]
  },
  {
   "cell_type": "code",
   "execution_count": 43,
   "metadata": {},
   "outputs": [
    {
     "name": "stdout",
     "output_type": "stream",
     "text": [
      "1.0990399373673057\n"
     ]
    }
   ],
   "source": [
    "#A new classifier with the \"probability\" parametre True\n",
    "clf=svm.SVC(kernel='rbf',C=12,gamma=0.0072, cache_size=5000, probability=True)\n",
    "\n",
    "X_train, X_test, y_train, y_test = train_test_split(features, labels.ravel(), test_size=0.3)\n",
    "clf.fit(X_train,y_train)\n",
    "prob_test=clf.predict_proba(X_test)\n",
    "print(log_loss(y_test, prob_test))"
   ]
  },
  {
   "cell_type": "markdown",
   "metadata": {},
   "source": [
    "## 5. Discussion/Conclusions"
   ]
  },
  {
   "cell_type": "markdown",
   "metadata": {},
   "source": [
    "*Interpret and explain your results *\n",
    "\n",
    "*- Discuss the relevance of the performance measures (accuracy and LogLoss) for\n",
    "imbalanced multiclass datasets. *\n",
    "\n",
    "*- How the results relate to the literature. *\n",
    "\n",
    "*- Suggestions for future research/improvement. *\n",
    "\n",
    "*- Did the study answer your questions? *\n",
    "\n"
   ]
  },
  {
   "cell_type": "markdown",
   "metadata": {},
   "source": [
    "## 6. References"
   ]
  },
  {
   "cell_type": "markdown",
   "metadata": {},
   "source": [
    "[1] MLBP 2018 Data Analysis Project - Problem Description"
   ]
  },
  {
   "cell_type": "markdown",
   "metadata": {},
   "source": [
    "## Appendix\n",
    "*Any additional material needed to complete the report can be included here. For example, if you want to keep  additional source code, additional images or plots, mathematical derivations, etc. The content should be relevant to the report and should help explain or visualize something mentioned earlier. **You can remove the whole Appendix section if there is no need for it.** *"
   ]
  },
  {
   "cell_type": "code",
   "execution_count": 57,
   "metadata": {},
   "outputs": [
    {
     "data": {
      "image/png": "[encoded data removed]",
      "text/plain": [
       "<Figure size 432x288 with 1 Axes>"
      ]
     },
     "metadata": {
      "needs_background": "light"
     },
     "output_type": "display_data"
    }
   ],
   "source": [
    "features=sklearn.preprocessing.minmax_scale(features,feature_range=(0,1))\n",
    "\n",
    "\n",
    "plt.hist(features[2])\n",
    "plt.show()"
   ]
  },
  {
   "cell_type": "code",
   "execution_count": null,
   "metadata": {},
   "outputs": [],
   "source": []
  }
 ],
 "metadata": {
  "kernelspec": {
   "display_name": "Python 3",
   "language": "python",
   "name": "python3"
  },
  "language_info": {
   "codemirror_mode": {
    "name": "ipython",
    "version": 3
   },
   "file_extension": ".py",
   "mimetype": "text/x-python",
   "name": "python",
   "nbconvert_exporter": "python",
   "pygments_lexer": "ipython3",
   "version": "3.6.6"
  }
 },
 "nbformat": 4,
 "nbformat_minor": 2
}
